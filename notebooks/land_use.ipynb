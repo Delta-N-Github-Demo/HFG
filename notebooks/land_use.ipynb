{
 "cells": [
  {
   "cell_type": "code",
   "execution_count": 13,
   "metadata": {},
   "outputs": [
    {
     "name": "stderr",
     "output_type": "stream",
     "text": [
      "/Users/mattiejas/Projects/HFG/.venv/lib/python3.11/site-packages/pyogrio/geopandas.py:265: UserWarning: More than one layer found in 'CBS_Land_use_Netherlands_2017.gpkg': 'bestand_bodemgebruik_2017' (default), 'bestand_bodemgebruik_2017_bodemgebruik'. Specify layer parameter to avoid this warning.\n",
      "  result = read_func(\n"
     ]
    }
   ],
   "source": [
    "import geopandas as gpd\n",
    "from geopy.geocoders import Nominatim\n",
    "import geopy\n",
    "import certifi\n",
    "import ssl\n",
    "\n",
    "ctx = ssl.create_default_context(cafile=certifi.where())\n",
    "geopy.geocoders.options.default_ssl_context = ctx\n",
    "\n",
    "# Load the data\n",
    "gdf = gpd.read_file('../data/CBS_Land_use/CBS_Land_use_Netherlands_2017.gpkg')"
   ]
  },
  {
   "cell_type": "code",
   "execution_count": 19,
   "metadata": {},
   "outputs": [
    {
     "name": "stdout",
     "output_type": "stream",
     "text": [
      "Longitude: 4.3613351, Latitude: 52.0433812\n"
     ]
    }
   ],
   "source": [
    "geolocator = Nominatim(user_agent=\"flourish\")\n",
    "\n",
    "# get the longitude and latitude of an address\n",
    "location = geolocator.geocode(\"Delta-N\")\n",
    "\n",
    "longitude = location.longitude\n",
    "latitude = location.latitude\n",
    "\n",
    "print(f\"Longitude: {longitude}, Latitude: {latitude}\")"
   ]
  },
  {
   "cell_type": "code",
   "execution_count": 25,
   "metadata": {},
   "outputs": [
    {
     "data": {
      "text/html": [
       "<div>\n",
       "<style scoped>\n",
       "    .dataframe tbody tr th:only-of-type {\n",
       "        vertical-align: middle;\n",
       "    }\n",
       "\n",
       "    .dataframe tbody tr th {\n",
       "        vertical-align: top;\n",
       "    }\n",
       "\n",
       "    .dataframe thead th {\n",
       "        text-align: right;\n",
       "    }\n",
       "</style>\n",
       "<table border=\"1\" class=\"dataframe\">\n",
       "  <thead>\n",
       "    <tr style=\"text-align: right;\">\n",
       "      <th></th>\n",
       "      <th>bg2017</th>\n",
       "      <th>bodemgebruik</th>\n",
       "      <th>categorie</th>\n",
       "      <th>geometry</th>\n",
       "      <th>lon</th>\n",
       "      <th>lat</th>\n",
       "    </tr>\n",
       "  </thead>\n",
       "  <tbody>\n",
       "    <tr>\n",
       "      <th>0</th>\n",
       "      <td>10</td>\n",
       "      <td>Spoorterrein</td>\n",
       "      <td>Spoorterrein</td>\n",
       "      <td>MULTIPOLYGON (((43278.376 374529.115, 43278.37...</td>\n",
       "      <td>45707.041866</td>\n",
       "      <td>368428.988807</td>\n",
       "    </tr>\n",
       "    <tr>\n",
       "      <th>1</th>\n",
       "      <td>10</td>\n",
       "      <td>Spoorterrein</td>\n",
       "      <td>Spoorterrein</td>\n",
       "      <td>MULTIPOLYGON (((120111.119 403198.578, 120116....</td>\n",
       "      <td>120756.711819</td>\n",
       "      <td>401698.699452</td>\n",
       "    </tr>\n",
       "    <tr>\n",
       "      <th>2</th>\n",
       "      <td>10</td>\n",
       "      <td>Spoorterrein</td>\n",
       "      <td>Spoorterrein</td>\n",
       "      <td>MULTIPOLYGON (((165518.079 403933.207, 165525....</td>\n",
       "      <td>164777.335312</td>\n",
       "      <td>403559.364551</td>\n",
       "    </tr>\n",
       "    <tr>\n",
       "      <th>3</th>\n",
       "      <td>10</td>\n",
       "      <td>Spoorterrein</td>\n",
       "      <td>Spoorterrein</td>\n",
       "      <td>MULTIPOLYGON (((99772.811 423051.852, 99772.09...</td>\n",
       "      <td>100783.116702</td>\n",
       "      <td>419892.615396</td>\n",
       "    </tr>\n",
       "    <tr>\n",
       "      <th>4</th>\n",
       "      <td>10</td>\n",
       "      <td>Spoorterrein</td>\n",
       "      <td>Spoorterrein</td>\n",
       "      <td>MULTIPOLYGON (((105349.804 429333.505, 105373....</td>\n",
       "      <td>105305.358897</td>\n",
       "      <td>429364.595709</td>\n",
       "    </tr>\n",
       "  </tbody>\n",
       "</table>\n",
       "</div>"
      ],
      "text/plain": [
       "   bg2017  bodemgebruik     categorie  \\\n",
       "0      10  Spoorterrein  Spoorterrein   \n",
       "1      10  Spoorterrein  Spoorterrein   \n",
       "2      10  Spoorterrein  Spoorterrein   \n",
       "3      10  Spoorterrein  Spoorterrein   \n",
       "4      10  Spoorterrein  Spoorterrein   \n",
       "\n",
       "                                            geometry            lon  \\\n",
       "0  MULTIPOLYGON (((43278.376 374529.115, 43278.37...   45707.041866   \n",
       "1  MULTIPOLYGON (((120111.119 403198.578, 120116....  120756.711819   \n",
       "2  MULTIPOLYGON (((165518.079 403933.207, 165525....  164777.335312   \n",
       "3  MULTIPOLYGON (((99772.811 423051.852, 99772.09...  100783.116702   \n",
       "4  MULTIPOLYGON (((105349.804 429333.505, 105373....  105305.358897   \n",
       "\n",
       "             lat  \n",
       "0  368428.988807  \n",
       "1  401698.699452  \n",
       "2  403559.364551  \n",
       "3  419892.615396  \n",
       "4  429364.595709  "
      ]
     },
     "execution_count": 25,
     "metadata": {},
     "output_type": "execute_result"
    }
   ],
   "source": [
    "gdf.head()"
   ]
  },
  {
   "cell_type": "code",
   "execution_count": 26,
   "metadata": {},
   "outputs": [
    {
     "data": {
      "text/plain": [
       "array(['Spoorterrein', 'Hoofdweg', 'Vliegveld',\n",
       "       'Bebouwd exclusief bedrijfsterrein', 'Bedrijfsterrein',\n",
       "       'Semi-bebouwd', 'Recreatie', 'Glastuinbouw',\n",
       "       'Landbouw en overig agrarisch', 'Bos', 'Droog natuurlijk terrein',\n",
       "       'Nat natuurlijk terrein', 'Water', 'Buitenland'], dtype=object)"
      ]
     },
     "execution_count": 26,
     "metadata": {},
     "output_type": "execute_result"
    }
   ],
   "source": [
    "gdf['bodemgebruik'].unique()"
   ]
  },
  {
   "cell_type": "code",
   "execution_count": 21,
   "metadata": {},
   "outputs": [],
   "source": [
    "gdf['lon'] = gdf.centroid.x\n",
    "gdf['lat'] = gdf.centroid.y"
   ]
  },
  {
   "cell_type": "code",
   "execution_count": 22,
   "metadata": {},
   "outputs": [
    {
     "data": {
      "text/html": [
       "<div>\n",
       "<style scoped>\n",
       "    .dataframe tbody tr th:only-of-type {\n",
       "        vertical-align: middle;\n",
       "    }\n",
       "\n",
       "    .dataframe tbody tr th {\n",
       "        vertical-align: top;\n",
       "    }\n",
       "\n",
       "    .dataframe thead th {\n",
       "        text-align: right;\n",
       "    }\n",
       "</style>\n",
       "<table border=\"1\" class=\"dataframe\">\n",
       "  <thead>\n",
       "    <tr style=\"text-align: right;\">\n",
       "      <th></th>\n",
       "      <th>bg2017</th>\n",
       "      <th>bodemgebruik</th>\n",
       "      <th>categorie</th>\n",
       "      <th>geometry</th>\n",
       "      <th>lon</th>\n",
       "      <th>lat</th>\n",
       "    </tr>\n",
       "  </thead>\n",
       "  <tbody>\n",
       "    <tr>\n",
       "      <th>0</th>\n",
       "      <td>10</td>\n",
       "      <td>Spoorterrein</td>\n",
       "      <td>Spoorterrein</td>\n",
       "      <td>MULTIPOLYGON (((43278.376 374529.115, 43278.37...</td>\n",
       "      <td>45707.041866</td>\n",
       "      <td>368428.988807</td>\n",
       "    </tr>\n",
       "    <tr>\n",
       "      <th>1</th>\n",
       "      <td>10</td>\n",
       "      <td>Spoorterrein</td>\n",
       "      <td>Spoorterrein</td>\n",
       "      <td>MULTIPOLYGON (((120111.119 403198.578, 120116....</td>\n",
       "      <td>120756.711819</td>\n",
       "      <td>401698.699452</td>\n",
       "    </tr>\n",
       "    <tr>\n",
       "      <th>2</th>\n",
       "      <td>10</td>\n",
       "      <td>Spoorterrein</td>\n",
       "      <td>Spoorterrein</td>\n",
       "      <td>MULTIPOLYGON (((165518.079 403933.207, 165525....</td>\n",
       "      <td>164777.335312</td>\n",
       "      <td>403559.364551</td>\n",
       "    </tr>\n",
       "    <tr>\n",
       "      <th>3</th>\n",
       "      <td>10</td>\n",
       "      <td>Spoorterrein</td>\n",
       "      <td>Spoorterrein</td>\n",
       "      <td>MULTIPOLYGON (((99772.811 423051.852, 99772.09...</td>\n",
       "      <td>100783.116702</td>\n",
       "      <td>419892.615396</td>\n",
       "    </tr>\n",
       "    <tr>\n",
       "      <th>4</th>\n",
       "      <td>10</td>\n",
       "      <td>Spoorterrein</td>\n",
       "      <td>Spoorterrein</td>\n",
       "      <td>MULTIPOLYGON (((105349.804 429333.505, 105373....</td>\n",
       "      <td>105305.358897</td>\n",
       "      <td>429364.595709</td>\n",
       "    </tr>\n",
       "  </tbody>\n",
       "</table>\n",
       "</div>"
      ],
      "text/plain": [
       "   bg2017  bodemgebruik     categorie  \\\n",
       "0      10  Spoorterrein  Spoorterrein   \n",
       "1      10  Spoorterrein  Spoorterrein   \n",
       "2      10  Spoorterrein  Spoorterrein   \n",
       "3      10  Spoorterrein  Spoorterrein   \n",
       "4      10  Spoorterrein  Spoorterrein   \n",
       "\n",
       "                                            geometry            lon  \\\n",
       "0  MULTIPOLYGON (((43278.376 374529.115, 43278.37...   45707.041866   \n",
       "1  MULTIPOLYGON (((120111.119 403198.578, 120116....  120756.711819   \n",
       "2  MULTIPOLYGON (((165518.079 403933.207, 165525....  164777.335312   \n",
       "3  MULTIPOLYGON (((99772.811 423051.852, 99772.09...  100783.116702   \n",
       "4  MULTIPOLYGON (((105349.804 429333.505, 105373....  105305.358897   \n",
       "\n",
       "             lat  \n",
       "0  368428.988807  \n",
       "1  401698.699452  \n",
       "2  403559.364551  \n",
       "3  419892.615396  \n",
       "4  429364.595709  "
      ]
     },
     "execution_count": 22,
     "metadata": {},
     "output_type": "execute_result"
    }
   ],
   "source": [
    "gdf.head()"
   ]
  },
  {
   "cell_type": "code",
   "execution_count": 23,
   "metadata": {},
   "outputs": [],
   "source": [
    "def find_nearest(row, lon, lat):\n",
    "    gpd.geometry == neare"
   ]
  },
  {
   "cell_type": "code",
   "execution_count": null,
   "metadata": {},
   "outputs": [],
   "source": []
  },
  {
   "cell_type": "code",
   "execution_count": 9,
   "metadata": {},
   "outputs": [
    {
     "data": {
      "text/plain": [
       "bg2017                                                         51\n",
       "bodemgebruik                         Landbouw en overig agrarisch\n",
       "categorie                                Overig agrarisch terrein\n",
       "geometry        MULTIPOLYGON (((252795.69000000134 548077.4189...\n",
       "lon                                                 252715.935321\n",
       "lat                                                 548734.818275\n",
       "Name: 112955, dtype: object"
      ]
     },
     "execution_count": 9,
     "metadata": {},
     "output_type": "execute_result"
    }
   ],
   "source": [
    "sample = gdf_subset.iloc[0]\n",
    "\n",
    "sample"
   ]
  },
  {
   "cell_type": "code",
   "execution_count": 7,
   "metadata": {},
   "outputs": [
    {
     "ename": "AttributeError",
     "evalue": "'Series' object has no attribute 'get_coordinates'",
     "output_type": "error",
     "traceback": [
      "\u001b[0;31m---------------------------------------------------------------------------\u001b[0m",
      "\u001b[0;31mAttributeError\u001b[0m                            Traceback (most recent call last)",
      "\u001b[0;32m/var/folders/td/x9t7jkhj0575q4728shmzdnc0000gn/T/ipykernel_62606/1045416034.py\u001b[0m in \u001b[0;36m?\u001b[0;34m()\u001b[0m\n\u001b[0;32m----> 1\u001b[0;31m \u001b[0msample\u001b[0m\u001b[0;34m.\u001b[0m\u001b[0mget_coordinates\u001b[0m\u001b[0;34m(\u001b[0m\u001b[0;34m)\u001b[0m\u001b[0;34m\u001b[0m\u001b[0;34m\u001b[0m\u001b[0m\n\u001b[0m",
      "\u001b[0;32m~/Projects/HFG/.venv/lib/python3.11/site-packages/pandas/core/generic.py\u001b[0m in \u001b[0;36m?\u001b[0;34m(self, name)\u001b[0m\n\u001b[1;32m   6295\u001b[0m             \u001b[0;32mand\u001b[0m \u001b[0mname\u001b[0m \u001b[0;32mnot\u001b[0m \u001b[0;32min\u001b[0m \u001b[0mself\u001b[0m\u001b[0;34m.\u001b[0m\u001b[0m_accessors\u001b[0m\u001b[0;34m\u001b[0m\u001b[0;34m\u001b[0m\u001b[0m\n\u001b[1;32m   6296\u001b[0m             \u001b[0;32mand\u001b[0m \u001b[0mself\u001b[0m\u001b[0;34m.\u001b[0m\u001b[0m_info_axis\u001b[0m\u001b[0;34m.\u001b[0m\u001b[0m_can_hold_identifiers_and_holds_name\u001b[0m\u001b[0;34m(\u001b[0m\u001b[0mname\u001b[0m\u001b[0;34m)\u001b[0m\u001b[0;34m\u001b[0m\u001b[0;34m\u001b[0m\u001b[0m\n\u001b[1;32m   6297\u001b[0m         ):\n\u001b[1;32m   6298\u001b[0m             \u001b[0;32mreturn\u001b[0m \u001b[0mself\u001b[0m\u001b[0;34m[\u001b[0m\u001b[0mname\u001b[0m\u001b[0;34m]\u001b[0m\u001b[0;34m\u001b[0m\u001b[0;34m\u001b[0m\u001b[0m\n\u001b[0;32m-> 6299\u001b[0;31m         \u001b[0;32mreturn\u001b[0m \u001b[0mobject\u001b[0m\u001b[0;34m.\u001b[0m\u001b[0m__getattribute__\u001b[0m\u001b[0;34m(\u001b[0m\u001b[0mself\u001b[0m\u001b[0;34m,\u001b[0m \u001b[0mname\u001b[0m\u001b[0;34m)\u001b[0m\u001b[0;34m\u001b[0m\u001b[0;34m\u001b[0m\u001b[0m\n\u001b[0m",
      "\u001b[0;31mAttributeError\u001b[0m: 'Series' object has no attribute 'get_coordinates'"
     ]
    }
   ],
   "source": [
    "sample.get_coordinates()"
   ]
  },
  {
   "cell_type": "code",
   "execution_count": null,
   "metadata": {},
   "outputs": [],
   "source": []
  }
 ],
 "metadata": {
  "kernelspec": {
   "display_name": ".venv",
   "language": "python",
   "name": "python3"
  },
  "language_info": {
   "codemirror_mode": {
    "name": "ipython",
    "version": 3
   },
   "file_extension": ".py",
   "mimetype": "text/x-python",
   "name": "python",
   "nbconvert_exporter": "python",
   "pygments_lexer": "ipython3",
   "version": "3.11.5"
  }
 },
 "nbformat": 4,
 "nbformat_minor": 2
}
